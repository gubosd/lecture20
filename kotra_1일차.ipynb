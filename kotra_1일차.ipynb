{
 "cells": [
  {
   "cell_type": "markdown",
   "id": "0199c7e8",
   "metadata": {},
   "source": [
    "# 파이썬 기초 (2021.10.21 목)\n",
    "## 자료형\n",
    "- 정수(int)\n",
    "- 실수(float)\n",
    "- 문자열(str)"
   ]
  },
  {
   "cell_type": "code",
   "execution_count": 73,
   "id": "0c91a384",
   "metadata": {},
   "outputs": [
    {
     "data": {
      "text/plain": [
       "3"
      ]
     },
     "execution_count": 73,
     "metadata": {},
     "output_type": "execute_result"
    }
   ],
   "source": [
    "1 + 2"
   ]
  },
  {
   "cell_type": "code",
   "execution_count": 2,
   "id": "229acbfb",
   "metadata": {},
   "outputs": [
    {
     "data": {
      "text/plain": [
       "9"
      ]
     },
     "execution_count": 2,
     "metadata": {},
     "output_type": "execute_result"
    }
   ],
   "source": [
    "3 * 3"
   ]
  },
  {
   "cell_type": "code",
   "execution_count": 1,
   "id": "82742004",
   "metadata": {},
   "outputs": [
    {
     "data": {
      "text/plain": [
       "1.0"
      ]
     },
     "execution_count": 1,
     "metadata": {},
     "output_type": "execute_result"
    }
   ],
   "source": [
    "1.0"
   ]
  },
  {
   "cell_type": "code",
   "execution_count": 2,
   "id": "4992e0f0",
   "metadata": {},
   "outputs": [
    {
     "data": {
      "text/plain": [
       "1.0"
      ]
     },
     "execution_count": 2,
     "metadata": {},
     "output_type": "execute_result"
    }
   ],
   "source": [
    "1."
   ]
  },
  {
   "cell_type": "code",
   "execution_count": 3,
   "id": "7adf6652",
   "metadata": {},
   "outputs": [
    {
     "name": "stdout",
     "output_type": "stream",
     "text": [
      "Hello, python!\n"
     ]
    }
   ],
   "source": [
    "print(\"Hello, python!\")"
   ]
  },
  {
   "cell_type": "code",
   "execution_count": 4,
   "id": "716f6521",
   "metadata": {},
   "outputs": [
    {
     "name": "stdout",
     "output_type": "stream",
     "text": [
      "Hello, python!\n"
     ]
    }
   ],
   "source": [
    "print('Hello, python!')"
   ]
  },
  {
   "cell_type": "code",
   "execution_count": 5,
   "id": "852274fe",
   "metadata": {},
   "outputs": [
    {
     "data": {
      "text/plain": [
       "28.26"
      ]
     },
     "execution_count": 5,
     "metadata": {},
     "output_type": "execute_result"
    }
   ],
   "source": [
    "3*3*3.14"
   ]
  },
  {
   "cell_type": "code",
   "execution_count": 8,
   "id": "4db8fee0",
   "metadata": {},
   "outputs": [
    {
     "name": "stdout",
     "output_type": "stream",
     "text": [
      "6\n",
      "7\n",
      "8\n",
      "9\n"
     ]
    }
   ],
   "source": [
    "for i in range(10):\n",
    "    if i>5:\n",
    "        print(i)"
   ]
  },
  {
   "cell_type": "code",
   "execution_count": 9,
   "id": "a618e56c",
   "metadata": {},
   "outputs": [
    {
     "name": "stdout",
     "output_type": "stream",
     "text": [
      "Help on built-in function print in module builtins:\n",
      "\n",
      "print(...)\n",
      "    print(value, ..., sep=' ', end='\\n', file=sys.stdout, flush=False)\n",
      "    \n",
      "    Prints the values to a stream, or to sys.stdout by default.\n",
      "    Optional keyword arguments:\n",
      "    file:  a file-like object (stream); defaults to the current sys.stdout.\n",
      "    sep:   string inserted between values, default a space.\n",
      "    end:   string appended after the last value, default a newline.\n",
      "    flush: whether to forcibly flush the stream.\n",
      "\n"
     ]
    }
   ],
   "source": [
    "help(print)"
   ]
  },
  {
   "cell_type": "code",
   "execution_count": 10,
   "id": "b63ea8fc",
   "metadata": {},
   "outputs": [
    {
     "name": "stdout",
     "output_type": "stream",
     "text": [
      "a#######b\n"
     ]
    }
   ],
   "source": [
    "print('a', 'b', sep='#######')"
   ]
  },
  {
   "cell_type": "code",
   "execution_count": 12,
   "id": "01084950",
   "metadata": {},
   "outputs": [
    {
     "name": "stdout",
     "output_type": "stream",
     "text": [
      "홍길동사랑해둘리\n"
     ]
    }
   ],
   "source": [
    "print('홍길동', '둘리', sep='사랑해')"
   ]
  },
  {
   "cell_type": "code",
   "execution_count": 16,
   "id": "f89d4e31",
   "metadata": {},
   "outputs": [],
   "source": [
    "합계 = 0"
   ]
  },
  {
   "cell_type": "code",
   "execution_count": 17,
   "id": "52cfaa37",
   "metadata": {},
   "outputs": [],
   "source": [
    "for i in range(10):\n",
    "    합계 = 합계 + 100"
   ]
  },
  {
   "cell_type": "code",
   "execution_count": 18,
   "id": "977c3ea3",
   "metadata": {},
   "outputs": [
    {
     "name": "stdout",
     "output_type": "stream",
     "text": [
      "1000\n"
     ]
    }
   ],
   "source": [
    "print(합계)"
   ]
  },
  {
   "cell_type": "code",
   "execution_count": 19,
   "id": "dabdb7fe",
   "metadata": {},
   "outputs": [
    {
     "data": {
      "text/plain": [
       "3"
      ]
     },
     "execution_count": 19,
     "metadata": {},
     "output_type": "execute_result"
    }
   ],
   "source": [
    "1 + 2"
   ]
  },
  {
   "cell_type": "code",
   "execution_count": 20,
   "id": "62b835e5",
   "metadata": {},
   "outputs": [
    {
     "data": {
      "text/plain": [
       "18.84"
      ]
     },
     "execution_count": 20,
     "metadata": {},
     "output_type": "execute_result"
    }
   ],
   "source": [
    "3.14 * 3 * 2"
   ]
  },
  {
   "cell_type": "code",
   "execution_count": 21,
   "id": "9d767ad4",
   "metadata": {},
   "outputs": [
    {
     "data": {
      "text/plain": [
       "5"
      ]
     },
     "execution_count": 21,
     "metadata": {},
     "output_type": "execute_result"
    }
   ],
   "source": [
    "2 + 3"
   ]
  },
  {
   "cell_type": "code",
   "execution_count": 22,
   "id": "b4fb1d8d",
   "metadata": {},
   "outputs": [
    {
     "data": {
      "text/plain": [
       "5.0"
      ]
     },
     "execution_count": 22,
     "metadata": {},
     "output_type": "execute_result"
    }
   ],
   "source": [
    "2.0 + 3"
   ]
  },
  {
   "cell_type": "code",
   "execution_count": 23,
   "id": "564442d8",
   "metadata": {},
   "outputs": [
    {
     "data": {
      "text/plain": [
       "'홍길동'"
      ]
     },
     "execution_count": 23,
     "metadata": {},
     "output_type": "execute_result"
    }
   ],
   "source": [
    "'홍길동'"
   ]
  },
  {
   "cell_type": "code",
   "execution_count": 24,
   "id": "48539d5b",
   "metadata": {},
   "outputs": [],
   "source": [
    "a = ['홍길동',  22, 170] # 리스트"
   ]
  },
  {
   "cell_type": "code",
   "execution_count": 25,
   "id": "1990e2b7",
   "metadata": {},
   "outputs": [
    {
     "name": "stdout",
     "output_type": "stream",
     "text": [
      "['홍길동', 22, 170]\n"
     ]
    }
   ],
   "source": [
    "print(a)"
   ]
  },
  {
   "cell_type": "code",
   "execution_count": 26,
   "id": "531f2d88",
   "metadata": {},
   "outputs": [
    {
     "data": {
      "text/plain": [
       "['홍길동', 22, 170]"
      ]
     },
     "execution_count": 26,
     "metadata": {},
     "output_type": "execute_result"
    }
   ],
   "source": [
    "a"
   ]
  },
  {
   "cell_type": "code",
   "execution_count": null,
   "id": "67686bde",
   "metadata": {},
   "outputs": [],
   "source": []
  },
  {
   "cell_type": "code",
   "execution_count": 27,
   "id": "b480bef2",
   "metadata": {},
   "outputs": [
    {
     "data": {
      "text/plain": [
       "-1"
      ]
     },
     "execution_count": 27,
     "metadata": {},
     "output_type": "execute_result"
    }
   ],
   "source": [
    "2 - 3"
   ]
  },
  {
   "cell_type": "code",
   "execution_count": 29,
   "id": "7a5fe3ee",
   "metadata": {},
   "outputs": [
    {
     "data": {
      "text/plain": [
       "5.0"
      ]
     },
     "execution_count": 29,
     "metadata": {},
     "output_type": "execute_result"
    }
   ],
   "source": [
    "10 / 2 # 나누면 반드시 실수가 된다"
   ]
  },
  {
   "cell_type": "code",
   "execution_count": 30,
   "id": "4f15aacc",
   "metadata": {},
   "outputs": [
    {
     "data": {
      "text/plain": [
       "2.5"
      ]
     },
     "execution_count": 30,
     "metadata": {},
     "output_type": "execute_result"
    }
   ],
   "source": [
    "5/2"
   ]
  },
  {
   "cell_type": "code",
   "execution_count": 31,
   "id": "07bd38b5",
   "metadata": {},
   "outputs": [
    {
     "data": {
      "text/plain": [
       "1024"
      ]
     },
     "execution_count": 31,
     "metadata": {},
     "output_type": "execute_result"
    }
   ],
   "source": [
    "2**10 # 1k"
   ]
  },
  {
   "cell_type": "code",
   "execution_count": null,
   "id": "4e7ac12c",
   "metadata": {},
   "outputs": [],
   "source": []
  },
  {
   "cell_type": "code",
   "execution_count": 33,
   "id": "f7f5efea",
   "metadata": {},
   "outputs": [
    {
     "data": {
      "text/plain": [
       "2"
      ]
     },
     "execution_count": 33,
     "metadata": {},
     "output_type": "execute_result"
    }
   ],
   "source": [
    "5//2 # 몫"
   ]
  },
  {
   "cell_type": "code",
   "execution_count": 34,
   "id": "40b0f97a",
   "metadata": {},
   "outputs": [
    {
     "data": {
      "text/plain": [
       "1"
      ]
     },
     "execution_count": 34,
     "metadata": {},
     "output_type": "execute_result"
    }
   ],
   "source": [
    "5%2 # 나머지"
   ]
  },
  {
   "cell_type": "code",
   "execution_count": 35,
   "id": "302c1429",
   "metadata": {},
   "outputs": [
    {
     "data": {
      "text/plain": [
       "2"
      ]
     },
     "execution_count": 35,
     "metadata": {},
     "output_type": "execute_result"
    }
   ],
   "source": [
    "1024%7"
   ]
  },
  {
   "cell_type": "code",
   "execution_count": null,
   "id": "cc3630e3",
   "metadata": {},
   "outputs": [],
   "source": []
  },
  {
   "cell_type": "code",
   "execution_count": 36,
   "id": "48923718",
   "metadata": {},
   "outputs": [
    {
     "data": {
      "text/plain": [
       "-6"
      ]
     },
     "execution_count": 36,
     "metadata": {},
     "output_type": "execute_result"
    }
   ],
   "source": [
    "1 - 3 * 4 + 5 # 곱하기와 나누기를 먼저 해준다"
   ]
  },
  {
   "cell_type": "code",
   "execution_count": 37,
   "id": "d9cd7b04",
   "metadata": {},
   "outputs": [
    {
     "data": {
      "text/plain": [
       "-6"
      ]
     },
     "execution_count": 37,
     "metadata": {},
     "output_type": "execute_result"
    }
   ],
   "source": [
    "1 - (3 * 4) + 5"
   ]
  },
  {
   "cell_type": "code",
   "execution_count": 39,
   "id": "2c0da06d",
   "metadata": {},
   "outputs": [
    {
     "data": {
      "text/plain": [
       "-16"
      ]
     },
     "execution_count": 39,
     "metadata": {},
     "output_type": "execute_result"
    }
   ],
   "source": [
    "1 - ((3 * 4) + 5)"
   ]
  },
  {
   "cell_type": "code",
   "execution_count": null,
   "id": "ad18289c",
   "metadata": {},
   "outputs": [],
   "source": []
  },
  {
   "cell_type": "code",
   "execution_count": 40,
   "id": "5ff8b24c",
   "metadata": {},
   "outputs": [
    {
     "data": {
      "text/plain": [
       "3"
      ]
     },
     "execution_count": 40,
     "metadata": {},
     "output_type": "execute_result"
    }
   ],
   "source": [
    "int(3.14)"
   ]
  },
  {
   "cell_type": "code",
   "execution_count": 42,
   "id": "ddebc5cf",
   "metadata": {},
   "outputs": [
    {
     "data": {
      "text/plain": [
       "3.0"
      ]
     },
     "execution_count": 42,
     "metadata": {},
     "output_type": "execute_result"
    }
   ],
   "source": [
    "float(3) # float number"
   ]
  },
  {
   "cell_type": "code",
   "execution_count": 43,
   "id": "6364f6a3",
   "metadata": {},
   "outputs": [
    {
     "data": {
      "text/plain": [
       "'3'"
      ]
     },
     "execution_count": 43,
     "metadata": {},
     "output_type": "execute_result"
    }
   ],
   "source": [
    "str(3)"
   ]
  },
  {
   "cell_type": "code",
   "execution_count": 44,
   "id": "9ff69344",
   "metadata": {},
   "outputs": [
    {
     "data": {
      "text/plain": [
       "334"
      ]
     },
     "execution_count": 44,
     "metadata": {},
     "output_type": "execute_result"
    }
   ],
   "source": [
    "int('334')"
   ]
  },
  {
   "cell_type": "code",
   "execution_count": 46,
   "id": "1a2eec3f",
   "metadata": {},
   "outputs": [
    {
     "data": {
      "text/plain": [
       "3"
      ]
     },
     "execution_count": 46,
     "metadata": {},
     "output_type": "execute_result"
    }
   ],
   "source": [
    "int(3.9999) # 반올림이 아니다!"
   ]
  },
  {
   "cell_type": "code",
   "execution_count": 52,
   "id": "78d27d4e",
   "metadata": {},
   "outputs": [
    {
     "data": {
      "text/plain": [
       "4"
      ]
     },
     "execution_count": 52,
     "metadata": {},
     "output_type": "execute_result"
    }
   ],
   "source": [
    "int(3.9999999999999999) # 부동소수점 이슈!!!"
   ]
  },
  {
   "cell_type": "code",
   "execution_count": 53,
   "id": "be6742e7",
   "metadata": {},
   "outputs": [
    {
     "ename": "TypeError",
     "evalue": "can't multiply sequence by non-int of type 'str'",
     "output_type": "error",
     "traceback": [
      "\u001b[1;31m---------------------------------------------------------------------------\u001b[0m",
      "\u001b[1;31mTypeError\u001b[0m                                 Traceback (most recent call last)",
      "\u001b[1;32m<ipython-input-53-bb2647c716f9>\u001b[0m in \u001b[0;36m<module>\u001b[1;34m\u001b[0m\n\u001b[1;32m----> 1\u001b[1;33m \u001b[1;34m'10'\u001b[0m \u001b[1;33m*\u001b[0m \u001b[1;34m'3.14'\u001b[0m\u001b[1;33m\u001b[0m\u001b[1;33m\u001b[0m\u001b[0m\n\u001b[0m",
      "\u001b[1;31mTypeError\u001b[0m: can't multiply sequence by non-int of type 'str'"
     ]
    }
   ],
   "source": [
    "'10' * '3.14'"
   ]
  },
  {
   "cell_type": "code",
   "execution_count": 55,
   "id": "b6e48e53",
   "metadata": {},
   "outputs": [
    {
     "data": {
      "text/plain": [
       "31.400000000000002"
      ]
     },
     "execution_count": 55,
     "metadata": {},
     "output_type": "execute_result"
    }
   ],
   "source": [
    "int('10') * float('3.14')"
   ]
  },
  {
   "cell_type": "code",
   "execution_count": null,
   "id": "55b8fdf1",
   "metadata": {},
   "outputs": [],
   "source": []
  },
  {
   "cell_type": "code",
   "execution_count": 56,
   "id": "058c4599",
   "metadata": {},
   "outputs": [],
   "source": [
    "이름 = \"Kingkong\""
   ]
  },
  {
   "cell_type": "code",
   "execution_count": 57,
   "id": "9e4927c6",
   "metadata": {},
   "outputs": [
    {
     "data": {
      "text/plain": [
       "'Kingkong'"
      ]
     },
     "execution_count": 57,
     "metadata": {},
     "output_type": "execute_result"
    }
   ],
   "source": [
    "이름"
   ]
  },
  {
   "cell_type": "code",
   "execution_count": 59,
   "id": "1150af39",
   "metadata": {},
   "outputs": [],
   "source": [
    "이름 = \"King's King\""
   ]
  },
  {
   "cell_type": "code",
   "execution_count": 60,
   "id": "6f55ba2f",
   "metadata": {},
   "outputs": [
    {
     "data": {
      "text/plain": [
       "\"King's King\""
      ]
     },
     "execution_count": 60,
     "metadata": {},
     "output_type": "execute_result"
    }
   ],
   "source": [
    "이름"
   ]
  },
  {
   "cell_type": "code",
   "execution_count": 61,
   "id": "9d18118b",
   "metadata": {},
   "outputs": [],
   "source": [
    "s = '''He's name is \"Kim\"'''"
   ]
  },
  {
   "cell_type": "code",
   "execution_count": 62,
   "id": "14f77c14",
   "metadata": {},
   "outputs": [
    {
     "data": {
      "text/plain": [
       "'He\\'s name is \"Kim\"'"
      ]
     },
     "execution_count": 62,
     "metadata": {},
     "output_type": "execute_result"
    }
   ],
   "source": [
    "s"
   ]
  },
  {
   "cell_type": "code",
   "execution_count": 65,
   "id": "3601c97a",
   "metadata": {},
   "outputs": [],
   "source": [
    "s = '홍길동\\t22\\t170\\n둘리' # \\t 는 탭문자, \\n 개행문자"
   ]
  },
  {
   "cell_type": "code",
   "execution_count": 66,
   "id": "c33d0646",
   "metadata": {},
   "outputs": [
    {
     "name": "stdout",
     "output_type": "stream",
     "text": [
      "홍길동\t22\t170\n",
      "둘리\n"
     ]
    }
   ],
   "source": [
    "print(s)"
   ]
  },
  {
   "cell_type": "code",
   "execution_count": 67,
   "id": "b3ed6ab0",
   "metadata": {},
   "outputs": [
    {
     "data": {
      "text/plain": [
       "\"I'm Tom.\""
      ]
     },
     "execution_count": 67,
     "metadata": {},
     "output_type": "execute_result"
    }
   ],
   "source": [
    "s = 'I\\'m Tom.'\n",
    "s"
   ]
  },
  {
   "cell_type": "code",
   "execution_count": 68,
   "id": "3a7e9c82",
   "metadata": {},
   "outputs": [],
   "source": [
    "이름 = ''"
   ]
  },
  {
   "cell_type": "code",
   "execution_count": 69,
   "id": "37604db5",
   "metadata": {},
   "outputs": [],
   "source": [
    "n = 0"
   ]
  },
  {
   "cell_type": "code",
   "execution_count": 70,
   "id": "50697c1e",
   "metadata": {},
   "outputs": [],
   "source": [
    "s = ' ' # 스페이스가 하나 들어있음"
   ]
  },
  {
   "cell_type": "code",
   "execution_count": null,
   "id": "fda2867f",
   "metadata": {},
   "outputs": [],
   "source": []
  },
  {
   "cell_type": "code",
   "execution_count": 71,
   "id": "3413002c",
   "metadata": {},
   "outputs": [
    {
     "name": "stdout",
     "output_type": "stream",
     "text": [
      "나는\n",
      "파이썬을\n",
      "\t배웁니다\n"
     ]
    }
   ],
   "source": [
    "print(\"나는\\n파이썬을\\n\\t배웁니다\")"
   ]
  },
  {
   "cell_type": "code",
   "execution_count": 74,
   "id": "654ff9ca",
   "metadata": {},
   "outputs": [
    {
     "data": {
      "text/plain": [
       "3.14"
      ]
     },
     "execution_count": 74,
     "metadata": {},
     "output_type": "execute_result"
    }
   ],
   "source": [
    "3.14"
   ]
  },
  {
   "cell_type": "code",
   "execution_count": 75,
   "id": "61fba140",
   "metadata": {},
   "outputs": [
    {
     "data": {
      "text/plain": [
       "6.28"
      ]
     },
     "execution_count": 75,
     "metadata": {},
     "output_type": "execute_result"
    }
   ],
   "source": [
    "3.14*2"
   ]
  },
  {
   "cell_type": "code",
   "execution_count": null,
   "id": "3e1042df",
   "metadata": {},
   "outputs": [],
   "source": []
  },
  {
   "cell_type": "code",
   "execution_count": 76,
   "id": "f60a7df7",
   "metadata": {},
   "outputs": [
    {
     "data": {
      "text/plain": [
       "'홍길동홍길동'"
      ]
     },
     "execution_count": 76,
     "metadata": {},
     "output_type": "execute_result"
    }
   ],
   "source": [
    "'홍길동'*2"
   ]
  },
  {
   "cell_type": "code",
   "execution_count": 77,
   "id": "24a43c78",
   "metadata": {},
   "outputs": [
    {
     "data": {
      "text/plain": [
       "'****************************************************************************************************'"
      ]
     },
     "execution_count": 77,
     "metadata": {},
     "output_type": "execute_result"
    }
   ],
   "source": [
    "'*'*100"
   ]
  },
  {
   "cell_type": "code",
   "execution_count": 78,
   "id": "d40a9de8",
   "metadata": {},
   "outputs": [
    {
     "name": "stdout",
     "output_type": "stream",
     "text": [
      "**********\n",
      "*        *\n",
      "**********\n"
     ]
    }
   ],
   "source": [
    "print('*'*10 + '\\n' + '*        *' + '\\n' + '*'*10)"
   ]
  },
  {
   "cell_type": "code",
   "execution_count": 79,
   "id": "39ea26e8",
   "metadata": {},
   "outputs": [
    {
     "name": "stdout",
     "output_type": "stream",
     "text": [
      "홍길동둘리\n"
     ]
    }
   ],
   "source": [
    "print('홍길동' + '둘리')"
   ]
  },
  {
   "cell_type": "code",
   "execution_count": 80,
   "id": "ac3f3b41",
   "metadata": {},
   "outputs": [
    {
     "name": "stdout",
     "output_type": "stream",
     "text": [
      "홍길동 둘리\n"
     ]
    }
   ],
   "source": [
    "print('홍길동' + ' ' + '둘리')"
   ]
  },
  {
   "cell_type": "code",
   "execution_count": 82,
   "id": "8013d871",
   "metadata": {},
   "outputs": [
    {
     "name": "stdout",
     "output_type": "stream",
     "text": [
      "홍길동 둘리 장길산\n"
     ]
    }
   ],
   "source": [
    "print('홍길동', '둘리', '장길산')"
   ]
  },
  {
   "cell_type": "code",
   "execution_count": null,
   "id": "0d50b412",
   "metadata": {},
   "outputs": [],
   "source": []
  },
  {
   "cell_type": "code",
   "execution_count": 83,
   "id": "56cab19f",
   "metadata": {},
   "outputs": [],
   "source": [
    "sentence = 'I am Tom.'"
   ]
  },
  {
   "cell_type": "code",
   "execution_count": 84,
   "id": "c947c2d3",
   "metadata": {},
   "outputs": [
    {
     "data": {
      "text/plain": [
       "9"
      ]
     },
     "execution_count": 84,
     "metadata": {},
     "output_type": "execute_result"
    }
   ],
   "source": [
    "len(sentence)"
   ]
  },
  {
   "cell_type": "code",
   "execution_count": 86,
   "id": "6b1e78ea",
   "metadata": {},
   "outputs": [
    {
     "data": {
      "text/plain": [
       "'o'"
      ]
     },
     "execution_count": 86,
     "metadata": {},
     "output_type": "execute_result"
    }
   ],
   "source": [
    "sentence[6]"
   ]
  },
  {
   "cell_type": "code",
   "execution_count": 87,
   "id": "d8825bfe",
   "metadata": {},
   "outputs": [
    {
     "data": {
      "text/plain": [
       "'T'"
      ]
     },
     "execution_count": 87,
     "metadata": {},
     "output_type": "execute_result"
    }
   ],
   "source": [
    "sentence[5]"
   ]
  },
  {
   "cell_type": "code",
   "execution_count": 89,
   "id": "12700582",
   "metadata": {},
   "outputs": [
    {
     "data": {
      "text/plain": [
       "'.'"
      ]
     },
     "execution_count": 89,
     "metadata": {},
     "output_type": "execute_result"
    }
   ],
   "source": [
    "sentence[8]"
   ]
  },
  {
   "cell_type": "code",
   "execution_count": 90,
   "id": "e3cea2be",
   "metadata": {},
   "outputs": [
    {
     "data": {
      "text/plain": [
       "'.'"
      ]
     },
     "execution_count": 90,
     "metadata": {},
     "output_type": "execute_result"
    }
   ],
   "source": [
    "sentence[-1]"
   ]
  },
  {
   "cell_type": "code",
   "execution_count": 92,
   "id": "d425e76a",
   "metadata": {},
   "outputs": [
    {
     "data": {
      "text/plain": [
       "'I am Tom.'"
      ]
     },
     "execution_count": 92,
     "metadata": {},
     "output_type": "execute_result"
    }
   ],
   "source": [
    "sentence"
   ]
  },
  {
   "cell_type": "code",
   "execution_count": 91,
   "id": "deb461af",
   "metadata": {},
   "outputs": [
    {
     "data": {
      "text/plain": [
       "'m T'"
      ]
     },
     "execution_count": 91,
     "metadata": {},
     "output_type": "execute_result"
    }
   ],
   "source": [
    "sentence[3:6] # 3부터 6까지 (3:m, 6:o)"
   ]
  },
  {
   "cell_type": "code",
   "execution_count": 94,
   "id": "770c7f99",
   "metadata": {},
   "outputs": [
    {
     "data": {
      "text/plain": [
       "'am'"
      ]
     },
     "execution_count": 94,
     "metadata": {},
     "output_type": "execute_result"
    }
   ],
   "source": [
    "sentence[2 :4 ]"
   ]
  },
  {
   "cell_type": "code",
   "execution_count": 95,
   "id": "79f2d361",
   "metadata": {},
   "outputs": [
    {
     "data": {
      "text/plain": [
       "'I am Tom'"
      ]
     },
     "execution_count": 95,
     "metadata": {},
     "output_type": "execute_result"
    }
   ],
   "source": [
    "# 끝에 마침표를 제외하고 출력하시오\n",
    "sentence[0 : -1]"
   ]
  },
  {
   "cell_type": "code",
   "execution_count": 96,
   "id": "cc8939b0",
   "metadata": {},
   "outputs": [
    {
     "data": {
      "text/plain": [
       "'I am Tom'"
      ]
     },
     "execution_count": 96,
     "metadata": {},
     "output_type": "execute_result"
    }
   ],
   "source": [
    "sentence[:-1]"
   ]
  },
  {
   "cell_type": "code",
   "execution_count": 97,
   "id": "396251f6",
   "metadata": {},
   "outputs": [
    {
     "data": {
      "text/plain": [
       "' am Tom.'"
      ]
     },
     "execution_count": 97,
     "metadata": {},
     "output_type": "execute_result"
    }
   ],
   "source": [
    "sentence[1:]"
   ]
  },
  {
   "cell_type": "code",
   "execution_count": 3,
   "id": "93aaf82c",
   "metadata": {},
   "outputs": [],
   "source": [
    "data = [6, 9, 3, 4, 7, 1, 9]"
   ]
  },
  {
   "cell_type": "code",
   "execution_count": 7,
   "id": "335559a8",
   "metadata": {},
   "outputs": [
    {
     "data": {
      "text/plain": [
       "[4, 7]"
      ]
     },
     "execution_count": 7,
     "metadata": {},
     "output_type": "execute_result"
    }
   ],
   "source": [
    "data[3:5]"
   ]
  },
  {
   "cell_type": "code",
   "execution_count": 100,
   "id": "c7a42dcb",
   "metadata": {},
   "outputs": [
    {
     "data": {
      "text/plain": [
       "[6, 9, 3]"
      ]
     },
     "execution_count": 100,
     "metadata": {},
     "output_type": "execute_result"
    }
   ],
   "source": [
    "data[0:3]"
   ]
  },
  {
   "cell_type": "code",
   "execution_count": 101,
   "id": "a5419129",
   "metadata": {},
   "outputs": [
    {
     "data": {
      "text/plain": [
       "[6, 9, 3, 4, 7, 1]"
      ]
     },
     "execution_count": 101,
     "metadata": {},
     "output_type": "execute_result"
    }
   ],
   "source": [
    "data[:-1]"
   ]
  },
  {
   "cell_type": "code",
   "execution_count": 105,
   "id": "4a5ab103",
   "metadata": {},
   "outputs": [
    {
     "data": {
      "text/plain": [
       "[4, 7, 1, 9]"
      ]
     },
     "execution_count": 105,
     "metadata": {},
     "output_type": "execute_result"
    }
   ],
   "source": [
    "data[3:7]"
   ]
  },
  {
   "cell_type": "code",
   "execution_count": 104,
   "id": "3c075019",
   "metadata": {},
   "outputs": [
    {
     "data": {
      "text/plain": [
       "[7, 1, 9]"
      ]
     },
     "execution_count": 104,
     "metadata": {},
     "output_type": "execute_result"
    }
   ],
   "source": [
    "data[-3:]"
   ]
  },
  {
   "cell_type": "code",
   "execution_count": 106,
   "id": "35433f5c",
   "metadata": {},
   "outputs": [],
   "source": [
    "s = 'I am Tom.'"
   ]
  },
  {
   "cell_type": "code",
   "execution_count": 108,
   "id": "be97e8f4",
   "metadata": {},
   "outputs": [
    {
     "data": {
      "text/plain": [
       "'I am Tom.'"
      ]
     },
     "execution_count": 108,
     "metadata": {},
     "output_type": "execute_result"
    }
   ],
   "source": [
    "s[:5] + s[5:]"
   ]
  },
  {
   "cell_type": "code",
   "execution_count": 109,
   "id": "64c77086",
   "metadata": {},
   "outputs": [
    {
     "data": {
      "text/plain": [
       "'I am om.'"
      ]
     },
     "execution_count": 109,
     "metadata": {},
     "output_type": "execute_result"
    }
   ],
   "source": [
    "s[:5] + s[6:]"
   ]
  },
  {
   "cell_type": "code",
   "execution_count": null,
   "id": "6b43d7e5",
   "metadata": {},
   "outputs": [],
   "source": []
  },
  {
   "cell_type": "code",
   "execution_count": 117,
   "id": "fd8955ae",
   "metadata": {},
   "outputs": [
    {
     "data": {
      "text/plain": [
       "'6,id2,수출상담회,수출상담회,수출상담회,코로나19 진단방역물품 온라인 특별관,2020-03-11,2020-12-31'"
      ]
     },
     "execution_count": 117,
     "metadata": {},
     "output_type": "execute_result"
    }
   ],
   "source": [
    "data = '6,id2,수출상담회,수출상담회,수출상담회,코로나19 진단방역물품 온라인 특별관,2020-03-11,2020-12-31'\n",
    "data"
   ]
  },
  {
   "cell_type": "code",
   "execution_count": 119,
   "id": "5d12c1c8",
   "metadata": {},
   "outputs": [
    {
     "data": {
      "text/plain": [
       "['6',\n",
       " 'id2',\n",
       " '수출상담회',\n",
       " '수출상담회',\n",
       " '수출상담회',\n",
       " '코로나19 진단방역물품 온라인 특별관',\n",
       " '2020-03-11',\n",
       " '2020-12-31']"
      ]
     },
     "execution_count": 119,
     "metadata": {},
     "output_type": "execute_result"
    }
   ],
   "source": [
    "data.split(',')"
   ]
  },
  {
   "cell_type": "code",
   "execution_count": 120,
   "id": "ad523edf",
   "metadata": {},
   "outputs": [
    {
     "data": {
      "text/plain": [
       "'     홍길동,22,170\\n'"
      ]
     },
     "execution_count": 120,
     "metadata": {},
     "output_type": "execute_result"
    }
   ],
   "source": [
    "data = '     홍길동,22,170\\n'\n",
    "data"
   ]
  },
  {
   "cell_type": "code",
   "execution_count": 121,
   "id": "029d46a8",
   "metadata": {},
   "outputs": [
    {
     "data": {
      "text/plain": [
       "'홍길동,22,170'"
      ]
     },
     "execution_count": 121,
     "metadata": {},
     "output_type": "execute_result"
    }
   ],
   "source": [
    "data.strip()"
   ]
  },
  {
   "cell_type": "code",
   "execution_count": 122,
   "id": "685f2f22",
   "metadata": {},
   "outputs": [
    {
     "data": {
      "text/plain": [
       "['홍길동', '22', '170']"
      ]
     },
     "execution_count": 122,
     "metadata": {},
     "output_type": "execute_result"
    }
   ],
   "source": [
    "data.strip().split(',')"
   ]
  },
  {
   "cell_type": "code",
   "execution_count": 125,
   "id": "19f12fdc",
   "metadata": {},
   "outputs": [
    {
     "data": {
      "text/plain": [
       "['     홍길동', '22', '170\\n']"
      ]
     },
     "execution_count": 125,
     "metadata": {},
     "output_type": "execute_result"
    }
   ],
   "source": [
    "data.split(',')"
   ]
  },
  {
   "cell_type": "code",
   "execution_count": 124,
   "id": "93f38458",
   "metadata": {},
   "outputs": [
    {
     "ename": "AttributeError",
     "evalue": "'list' object has no attribute 'strip'",
     "output_type": "error",
     "traceback": [
      "\u001b[1;31m---------------------------------------------------------------------------\u001b[0m",
      "\u001b[1;31mAttributeError\u001b[0m                            Traceback (most recent call last)",
      "\u001b[1;32m<ipython-input-124-d3eddb731def>\u001b[0m in \u001b[0;36m<module>\u001b[1;34m\u001b[0m\n\u001b[1;32m----> 1\u001b[1;33m \u001b[0mdata\u001b[0m\u001b[1;33m.\u001b[0m\u001b[0msplit\u001b[0m\u001b[1;33m(\u001b[0m\u001b[1;34m','\u001b[0m\u001b[1;33m)\u001b[0m\u001b[1;33m.\u001b[0m\u001b[0mstrip\u001b[0m\u001b[1;33m(\u001b[0m\u001b[1;33m)\u001b[0m\u001b[1;33m\u001b[0m\u001b[1;33m\u001b[0m\u001b[0m\n\u001b[0m",
      "\u001b[1;31mAttributeError\u001b[0m: 'list' object has no attribute 'strip'"
     ]
    }
   ],
   "source": [
    "(data.split(',')).strip()"
   ]
  },
  {
   "cell_type": "code",
   "execution_count": null,
   "id": "49094858",
   "metadata": {},
   "outputs": [],
   "source": []
  },
  {
   "cell_type": "markdown",
   "id": "3ea8a605",
   "metadata": {},
   "source": [
    "### 리스트\n",
    "- 자료들의 묶음\n",
    "- 포함되는 자료는 무엇이든 될 수 있다 (리스트 안에 리스트도 포함 가능함)\n",
    "- [1, 2, 3.5, '홍길동', [4,5,6]]\n",
    "- [[1,2,3], [4,5,6], [7,8,9]] 같은 리스트는 표형태(2차원) 데이터이다"
   ]
  },
  {
   "cell_type": "code",
   "execution_count": 126,
   "id": "a0312733",
   "metadata": {},
   "outputs": [],
   "source": [
    "이름 = '홍길동'\n",
    "나이 = 22\n",
    "키 = 170"
   ]
  },
  {
   "cell_type": "code",
   "execution_count": 127,
   "id": "5e247653",
   "metadata": {},
   "outputs": [],
   "source": [
    "이름2 = '장길산'\n",
    "나이2 = 33\n",
    "키2 = 165"
   ]
  },
  {
   "cell_type": "code",
   "execution_count": 129,
   "id": "28dec7fe",
   "metadata": {},
   "outputs": [
    {
     "data": {
      "text/plain": [
       "['홍길동', 22, 170]"
      ]
     },
     "execution_count": 129,
     "metadata": {},
     "output_type": "execute_result"
    }
   ],
   "source": [
    "사람 = ['홍길동', 22, 170] # 리스트\n",
    "사람"
   ]
  },
  {
   "cell_type": "code",
   "execution_count": 137,
   "id": "06444578",
   "metadata": {},
   "outputs": [],
   "source": [
    "사람2 = ['장길산',33, 165]"
   ]
  },
  {
   "cell_type": "code",
   "execution_count": 130,
   "id": "5e29a83b",
   "metadata": {},
   "outputs": [
    {
     "data": {
      "text/plain": [
       "[10, 9, 7, 3.14, '파이']"
      ]
     },
     "execution_count": 130,
     "metadata": {},
     "output_type": "execute_result"
    }
   ],
   "source": [
    "a = [10,9,7, 3.14, '파이']\n",
    "a"
   ]
  },
  {
   "cell_type": "code",
   "execution_count": 131,
   "id": "cad2254e",
   "metadata": {},
   "outputs": [
    {
     "data": {
      "text/plain": [
       "'파이'"
      ]
     },
     "execution_count": 131,
     "metadata": {},
     "output_type": "execute_result"
    }
   ],
   "source": [
    "a[-1]"
   ]
  },
  {
   "cell_type": "code",
   "execution_count": 132,
   "id": "a16514f7",
   "metadata": {},
   "outputs": [
    {
     "data": {
      "text/plain": [
       "10"
      ]
     },
     "execution_count": 132,
     "metadata": {},
     "output_type": "execute_result"
    }
   ],
   "source": [
    "a[0]"
   ]
  },
  {
   "cell_type": "code",
   "execution_count": 133,
   "id": "bda639ae",
   "metadata": {},
   "outputs": [
    {
     "data": {
      "text/plain": [
       "[7, 3.14, '파이']"
      ]
     },
     "execution_count": 133,
     "metadata": {},
     "output_type": "execute_result"
    }
   ],
   "source": [
    "a[2:5]"
   ]
  },
  {
   "cell_type": "code",
   "execution_count": 134,
   "id": "199a2a63",
   "metadata": {},
   "outputs": [
    {
     "data": {
      "text/plain": [
       "5"
      ]
     },
     "execution_count": 134,
     "metadata": {},
     "output_type": "execute_result"
    }
   ],
   "source": [
    "len(a)"
   ]
  },
  {
   "cell_type": "code",
   "execution_count": 136,
   "id": "36b9ed9b",
   "metadata": {},
   "outputs": [
    {
     "name": "stdout",
     "output_type": "stream",
     "text": [
      "5\n"
     ]
    }
   ],
   "source": [
    "n = 0\n",
    "for i in a:\n",
    "    n = n+1\n",
    "    \n",
    "print(n)"
   ]
  },
  {
   "cell_type": "code",
   "execution_count": 135,
   "id": "5742798d",
   "metadata": {},
   "outputs": [
    {
     "data": {
      "text/plain": [
       "list"
      ]
     },
     "execution_count": 135,
     "metadata": {},
     "output_type": "execute_result"
    }
   ],
   "source": [
    "type(a)"
   ]
  },
  {
   "cell_type": "code",
   "execution_count": null,
   "id": "56c1d7e2",
   "metadata": {},
   "outputs": [],
   "source": []
  },
  {
   "cell_type": "code",
   "execution_count": 138,
   "id": "c4f396e6",
   "metadata": {},
   "outputs": [
    {
     "data": {
      "text/plain": [
       "['홍길동', 22, 170]"
      ]
     },
     "execution_count": 138,
     "metadata": {},
     "output_type": "execute_result"
    }
   ],
   "source": [
    "사람1 = ['홍길동', 22, 170] # 리스트\n",
    "사람1"
   ]
  },
  {
   "cell_type": "code",
   "execution_count": 139,
   "id": "a8cfdfc3",
   "metadata": {},
   "outputs": [],
   "source": [
    "사람2 = ['장길산',33, 165]"
   ]
  },
  {
   "cell_type": "code",
   "execution_count": 141,
   "id": "2529eeca",
   "metadata": {},
   "outputs": [],
   "source": [
    "사람들 = [사람1, 사람2]"
   ]
  },
  {
   "cell_type": "code",
   "execution_count": 142,
   "id": "c3e9c66e",
   "metadata": {},
   "outputs": [
    {
     "data": {
      "text/plain": [
       "[['홍길동', 22, 170], ['장길산', 33, 165]]"
      ]
     },
     "execution_count": 142,
     "metadata": {},
     "output_type": "execute_result"
    }
   ],
   "source": [
    "사람들"
   ]
  },
  {
   "cell_type": "code",
   "execution_count": null,
   "id": "938fe879",
   "metadata": {},
   "outputs": [],
   "source": []
  },
  {
   "cell_type": "code",
   "execution_count": 143,
   "id": "584a01dc",
   "metadata": {},
   "outputs": [
    {
     "data": {
      "text/plain": [
       "[['홍길동', 22, 170], ['장길산', 33, 165]]"
      ]
     },
     "execution_count": 143,
     "metadata": {},
     "output_type": "execute_result"
    }
   ],
   "source": [
    "사람들 = [['홍길동', 22, 170], ['장길산',33, 165]]\n",
    "사람들"
   ]
  },
  {
   "cell_type": "code",
   "execution_count": 144,
   "id": "bf0a5fa6",
   "metadata": {},
   "outputs": [
    {
     "data": {
      "text/plain": [
       "2"
      ]
     },
     "execution_count": 144,
     "metadata": {},
     "output_type": "execute_result"
    }
   ],
   "source": [
    "len(사람들)"
   ]
  },
  {
   "cell_type": "code",
   "execution_count": 146,
   "id": "e8ee3633",
   "metadata": {},
   "outputs": [
    {
     "data": {
      "text/plain": [
       "[[10, 9, 8], [6, 7, 7], [8, 8, 10], [3, 1, 2]]"
      ]
     },
     "execution_count": 146,
     "metadata": {},
     "output_type": "execute_result"
    }
   ],
   "source": [
    "성적표 = [[10,9,8], [6,7,7], [8,8,10], [3,1,2]]\n",
    "성적표"
   ]
  },
  {
   "cell_type": "code",
   "execution_count": null,
   "id": "6501037a",
   "metadata": {},
   "outputs": [],
   "source": []
  },
  {
   "cell_type": "markdown",
   "id": "6dc2f25f",
   "metadata": {},
   "source": [
    "### 딕셔너리\n",
    "- 리스트와 같은 정보를 다룬다\n",
    "- 표현 방식만 다르다"
   ]
  },
  {
   "cell_type": "code",
   "execution_count": 10,
   "id": "7787118f",
   "metadata": {},
   "outputs": [
    {
     "data": {
      "text/plain": [
       "['홍길동', 22, 170]"
      ]
     },
     "execution_count": 10,
     "metadata": {},
     "output_type": "execute_result"
    }
   ],
   "source": [
    "a = ['홍길동', 22, 170]\n",
    "a"
   ]
  },
  {
   "cell_type": "code",
   "execution_count": 9,
   "id": "b09c66c3",
   "metadata": {},
   "outputs": [
    {
     "data": {
      "text/plain": [
       "{'이름': '홍길동', '나이': 22, '키': 170}"
      ]
     },
     "execution_count": 9,
     "metadata": {},
     "output_type": "execute_result"
    }
   ],
   "source": [
    "d = {'이름': '홍길동', '나이':22, '키':170}\n",
    "d"
   ]
  },
  {
   "cell_type": "code",
   "execution_count": 11,
   "id": "3d1c4fd5",
   "metadata": {},
   "outputs": [],
   "source": [
    "a = ['홍길동', 22, 170]\n",
    "c = ['이름','나이','키']"
   ]
  },
  {
   "cell_type": "code",
   "execution_count": 12,
   "id": "c3a8a46d",
   "metadata": {},
   "outputs": [
    {
     "data": {
      "text/plain": [
       "True"
      ]
     },
     "execution_count": 12,
     "metadata": {},
     "output_type": "execute_result"
    }
   ],
   "source": [
    "True"
   ]
  },
  {
   "cell_type": "code",
   "execution_count": 13,
   "id": "4cc16afa",
   "metadata": {},
   "outputs": [
    {
     "data": {
      "text/plain": [
       "False"
      ]
     },
     "execution_count": 13,
     "metadata": {},
     "output_type": "execute_result"
    }
   ],
   "source": [
    "False"
   ]
  },
  {
   "cell_type": "code",
   "execution_count": 14,
   "id": "95a5825b",
   "metadata": {},
   "outputs": [
    {
     "data": {
      "text/plain": [
       "False"
      ]
     },
     "execution_count": 14,
     "metadata": {},
     "output_type": "execute_result"
    }
   ],
   "source": [
    "1 == 2"
   ]
  },
  {
   "cell_type": "code",
   "execution_count": 15,
   "id": "0784e180",
   "metadata": {},
   "outputs": [
    {
     "data": {
      "text/plain": [
       "True"
      ]
     },
     "execution_count": 15,
     "metadata": {},
     "output_type": "execute_result"
    }
   ],
   "source": [
    "1+2 == 3"
   ]
  },
  {
   "cell_type": "code",
   "execution_count": null,
   "id": "9e0fc7f2",
   "metadata": {},
   "outputs": [],
   "source": []
  }
 ],
 "metadata": {
  "kernelspec": {
   "display_name": "Python 3",
   "language": "python",
   "name": "python3"
  },
  "language_info": {
   "codemirror_mode": {
    "name": "ipython",
    "version": 3
   },
   "file_extension": ".py",
   "mimetype": "text/x-python",
   "name": "python",
   "nbconvert_exporter": "python",
   "pygments_lexer": "ipython3",
   "version": "3.8.8"
  }
 },
 "nbformat": 4,
 "nbformat_minor": 5
}
